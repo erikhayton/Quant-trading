{
 "cells": [
  {
   "cell_type": "code",
   "execution_count": 159,
   "metadata": {},
   "outputs": [],
   "source": [
    "import numpy as np\n",
    "import math\n",
    "import time"
   ]
  },
  {
   "cell_type": "code",
   "execution_count": 176,
   "metadata": {},
   "outputs": [
    {
     "name": "stdout",
     "output_type": "stream",
     "text": [
      "Call option price with Monte carlo approach:   10.45805672244926\n",
      "Put option price wiht Monte carlo approach:   5.574003411737752\n"
     ]
    }
   ],
   "source": [
    "class OptionPricing:\n",
    "    def __init__(self, s0, E, T, rf,sigma, iterations):\n",
    "        self.s0 = s0\n",
    "        self.E = E\n",
    "        self.T = T\n",
    "        self.rf = rf\n",
    "        self.iterations = iterations\n",
    "        self.sigma = sigma\n",
    "    \n",
    "    def call_option_simulation(self):\n",
    "        #2 columns. column one for zeors, and column 2 for payoff max(0, S-E) for call option\n",
    "        option_data = np.zeros([self.iterations,2])\n",
    "        \n",
    "        #1d array with items as many as Iterations\n",
    "        rand = np.random.normal(0,1,[1, self.iterations])\n",
    "        \n",
    "        #stock price equation\n",
    "        stock_price = self.s0*np.exp(self.T*(self.rf- 0.5*self.sigma**2)+self.sigma*np.sqrt(self.T)*rand)\n",
    "        \n",
    "        #calculate S-E\n",
    "        option_data[:,1] = stock_price - self.E\n",
    "        \n",
    "        #np.amax() to return the max(0,S-E)\n",
    "        average = np.sum(np.amax(option_data, axis=1))/(float(self.iterations))\n",
    "        \n",
    "        #using exp(-rT) to discount the price\n",
    "        return np.exp(-1.0*self.rf*self.T)*average\n",
    "    \n",
    "    \n",
    "    def put_option_simulation(self):\n",
    "        \n",
    "        #2 columns. column one for zeors, and column 2 for payoff max(0, S-E) for call option\n",
    "        option_data = np.zeros([self.iterations,2])\n",
    "        \n",
    "        #1d array with items as many as Iterations\n",
    "        rand = np.random.normal(0,1,[1, self.iterations])\n",
    "               \n",
    "        #stock price equation\n",
    "        stock_price = self.s0*np.exp(self.T*(self.rf-0.5*self.sigma**2)+self.sigma*np.sqrt(self.T)*rand)\n",
    "        \n",
    "        #calculate E-S - put options\n",
    "        option_data[:,1] = self.E - stock_price\n",
    "        \n",
    "        #np.amax() to return the max(0,S-E)\n",
    "        average = np.sum(np.amax(option_data,axis=1))/float(self.iterations)\n",
    "        \n",
    "        #using exp(-rT) to discount the price\n",
    "        return np.exp(-1.0*self.rf*self.T)*average\n",
    "    \n",
    "if __name__ == \"__main__\":\n",
    "    s0 = 100                  #stock price at t=0\n",
    "    E = 100                   #strike price\n",
    "    T = 1                     #time to maturity\n",
    "    rf = 0.05                 #risk free rate\n",
    "    sigma = 0.2               #volatility of underlying stock\n",
    "    iterations = 1000000     #number of iterations in the Monte carlo simulation\n",
    "    \n",
    "    model = OptionPricing(s0,E,T,rf,sigma,iterations)\n",
    "    print ('Call option price with Monte carlo approach:  ', model.call_option_simulation())\n",
    "    print('Put option price wiht Monte carlo approach:  ', model.put_option_simulation())"
   ]
  },
  {
   "cell_type": "code",
   "execution_count": null,
   "metadata": {},
   "outputs": [],
   "source": []
  }
 ],
 "metadata": {
  "kernelspec": {
   "display_name": "Python 3",
   "language": "python",
   "name": "python3"
  },
  "language_info": {
   "codemirror_mode": {
    "name": "ipython",
    "version": 3
   },
   "file_extension": ".py",
   "mimetype": "text/x-python",
   "name": "python",
   "nbconvert_exporter": "python",
   "pygments_lexer": "ipython3",
   "version": "3.6.5"
  }
 },
 "nbformat": 4,
 "nbformat_minor": 2
}
