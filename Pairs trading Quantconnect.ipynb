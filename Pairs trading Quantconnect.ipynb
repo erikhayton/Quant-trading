{
 "cells": [
  {
   "cell_type": "markdown",
   "metadata": {},
   "source": [
    "## Pair trading from Quantconnect - https://www.quantconnect.com/tutorials/strategy-library/intraday-dynamic-pairs-trading-using-correlation-and-cointegration-approach"
   ]
  },
  {
   "cell_type": "markdown",
   "metadata": {},
   "source": [
    "Step 1: Pairs Class Definition\n",
    "The pairs is made up of two stocks, stock A and stock B. This class has several properties. The basic properties include symbols of stock A and stock B, the pandas DataFrame that contains time and prices of the two stocks, the current error, the error of the last datapoint, and the lists to record stock prices for update purpose. Instead of updating the DataFrame every 5 minutes, we record the prices in lists to update the DataFrame monthly. This would speed up the algorithm at least 10 times because manipulating DataFrame is very time consuming. The cor_update method is used every month to update the correlation between the two stocks in this pair. The cointegration_test method is also used monthly to do OLS regression, conduct ADF test, and calculate the mean and standard deviation of the residual. The method also assign these calculated values as properties to the pair object."
   ]
  },
  {
   "cell_type": "code",
   "execution_count": 2,
   "metadata": {},
   "outputs": [],
   "source": [
    "class pairs(object):\n",
    "    def __init__(self, a, b):\n",
    "        self.a = a\n",
    "        self.b = b\n",
    "        self.name = str(a) + ':' + str(b)\n",
    "        self.df = pd.concat([a.df,b.df],axis = 1).dropna()\n",
    "    # The number of bars in the rolling window would be determined by the resolution, so we get this information from the shape of the DataFrame here.\n",
    "        self.num_bar = self.df.shape[0]\n",
    "        self.cor = self.df.corr().ix[0][1]\n",
    "    # Set the initial signals to be 0\n",
    "        self.error = 0\n",
    "        self.last_error = 0\n",
    "        self.a_price = []\n",
    "        self.a_date = []\n",
    "        self.b_price = []\n",
    "        self.b_date = []\n",
    "\n",
    "    def cor_update(self):\n",
    "        self.cor = self.df.corr().ix[0][1]\n",
    "\n",
    "    def cointegration_test(self):\n",
    "        self.model = sm.ols(formula = '%s ~ %s'%(str(self.a),str(self.b)), data = self.df).fit()\n",
    "    # This line conduct ADF test on the residual. ts.adfuller() returns a tuple and the first element in the tuple is the test value.\n",
    "        self.adf = ts.adfuller(self.model.resid,autolag = 'BIC')[0]\n",
    "        self.mean_error = np.mean(self.model.resid)\n",
    "        self.sd = np.std(self.model.resid)\n",
    "\n",
    "    def price_record(self,data_a,data_b):\n",
    "        self.a_price.append(float(data_a.Close))\n",
    "        self.a_date.append(data_a.EndTime)\n",
    "        self.b_price.append(float(data_b.Close))\n",
    "        self.b_date.append(data_b.EndTime)\n",
    "\n",
    "    def df_update(self):\n",
    "        new_df = pd.DataFrame({str(self.a):self.a_price,str(self.b):self.b_price},index =\n",
    "                 [self.a_date]).dropna()\n",
    "        self.df = pd.concat([self.df,new_df])\n",
    "        self.df = self.df.tail(self.num_bar)\n",
    "    # after updating the DataFrame, we empty the lists for the incoming data\n",
    "        for list in [self.a_price,self.a_date,self.b_price,self.b_date]:\n",
    "            list = []"
   ]
  },
  {
   "cell_type": "markdown",
   "metadata": {},
   "source": [
    "Step 2: Generate and Clean Pairs\n",
    "The function generate_pairs generates pairs using the stock symbols. self.pair_threshold and self.pair_num are pre-determined to control the number of candidate pairs. The pairs in self.pair_list would be kept and updated throughout our backtesting period. we set self.pair_threshold to 0.88 and self.pair_num to 120 to limit the number of pairs in the list. If we put too many pairs in the list, the backtesting would be too time consuming. The function pair_clean is called after the two-stage screen. If the first pair contains stock A and stock B, and the second pair contains stock B and stock C, we would remove the second pair because the overlapped signal would disturb the balance of our portfolio."
   ]
  },
  {
   "cell_type": "code",
   "execution_count": 14,
   "metadata": {},
   "outputs": [],
   "source": [
    "def generate_pairs(self):\n",
    "    for i in range(len(self.symbols)):\n",
    "        for j in range(i+1,len(self.symbols)):\n",
    "            self.pair_list.append(pairs(self.symbols[i],self.symbols[j]))\n",
    "\n",
    "    self.pair_list = [x for x in self.pair_list if x.cor > self.pair_threshold]\n",
    "\n",
    "    self.pair_list.sort(key = lambda x: x.cor, reverse = True)\n",
    "\n",
    "    if len(self.pair_list) > self.pair_num:\n",
    "        \tself.pair_list = self.pair_list[:self.pair_num]\n",
    "\n",
    "def pair_clean(self,list):\n",
    "    l = []\n",
    "    l.append(list[0])\n",
    "    for i in list:\n",
    "        symbols = [x.a for x in l] + [x.b for x in l]\n",
    "        if i.a not in symbols and i.b not in symbols:\n",
    "            l.append(i)\n",
    "        else:\n",
    "            pass\n",
    "    return l"
   ]
  },
  {
   "cell_type": "markdown",
   "metadata": {},
   "source": [
    "Step 3: Warming up Period\n",
    "This part is under the OnData step. We set self.num_bar equals to the number of TradeBar in three months, which is determined by the resolution. During this period we fill the stock prices in lists, and assign each stock's price list to the symbol as a property. We would also remove the symbol from the symbol list if it has no data."
   ]
  },
  {
   "cell_type": "code",
   "execution_count": 17,
   "metadata": {},
   "outputs": [
    {
     "ename": "SyntaxError",
     "evalue": "'return' outside function (<ipython-input-17-bd304ef52ff0>, line 10)",
     "output_type": "error",
     "traceback": [
      "\u001b[1;36m  File \u001b[1;32m\"<ipython-input-17-bd304ef52ff0>\"\u001b[1;36m, line \u001b[1;32m10\u001b[0m\n\u001b[1;33m    return\u001b[0m\n\u001b[1;37m    ^\u001b[0m\n\u001b[1;31mSyntaxError\u001b[0m\u001b[1;31m:\u001b[0m 'return' outside function\n"
     ]
    }
   ],
   "source": [
    "if len(self.symbols[0].prices) < self.num_bar:\n",
    "    for symbol in self.symbols:\n",
    "        if data.ContainsKey(i) is True:\n",
    "            symbol.prices.append(float(data[symbol].Close))\n",
    "            symbol.dates.append(data[symbol].EndTime)\n",
    "        else:\n",
    "            self.Log('%s is missing'%str(symbol))\n",
    "            self.symbols.remove(symbol)\n",
    "    self.data_count = 0\n",
    "    return"
   ]
  },
  {
   "cell_type": "markdown",
   "metadata": {},
   "source": [
    "Step 4: Pairs Selection\n",
    "This process is also under the OnData step. This step would generate pairs if it is the first trading period of this algorithm. If it's not, it will update the DataFrame and correlation coefficient of each pair in self.pair_list. After that the pairs have a correlation coefficient higher than 0.9 would be selected into self.selected_pair. Then all the pairs in self.selected_pair would be tested on their cointegration, and the pairs with a test value less than -3.34 would be selected to the final list. This step will also limit the number of stocks in the final list, by default we set self.selected_num to 10. self.count is a flag to count the number of datapoint we received. Once it reach 1-month amount, that means one trading period is passed and it would be set to 0.\n",
    "\n"
   ]
  },
  {
   "cell_type": "code",
   "execution_count": 20,
   "metadata": {},
   "outputs": [
    {
     "ename": "SyntaxError",
     "evalue": "'return' outside function (<ipython-input-20-f8185084a4e7>, line 29)",
     "output_type": "error",
     "traceback": [
      "\u001b[1;36m  File \u001b[1;32m\"<ipython-input-20-f8185084a4e7>\"\u001b[1;36m, line \u001b[1;32m29\u001b[0m\n\u001b[1;33m    return\u001b[0m\n\u001b[1;37m    ^\u001b[0m\n\u001b[1;31mSyntaxError\u001b[0m\u001b[1;31m:\u001b[0m 'return' outside function\n"
     ]
    }
   ],
   "source": [
    "if self.count == 0 and len(self.symbols[0].prices) == self.num_bar:\n",
    "    if self.generate_count == 0:\n",
    "        for symbol in self.symbols:\n",
    "            symbol.df = pd.DataFrame(symbol.prices, index = symbol.dates, columns = ['%s'%str(symbol)])\n",
    "\n",
    "            self.generate_pairs()\n",
    "            self.generate_count +=1\n",
    "            self.Log('pair list length:'+str(len(self.pair_list)))\n",
    "\n",
    "        for pair in self.pair_list:\n",
    "            pair.cor_update()\n",
    "    # Update the DataFrame and correlation selection\n",
    "    if len(self.pair_list[0].a_price) != 0:\n",
    "        for pair in self.pair_list:\n",
    "            pair.df_update()\n",
    "            pair.cor_update()\n",
    "\n",
    "    self.selected_pair = [x for x in self.pair_list if x.cor > 0.9]\n",
    "    # Cointegration test\n",
    "    for pair in self.selected_pair:\n",
    "        pair.cointegration_test()\n",
    "\n",
    "    self.selected_pair = [x for x in self.selected_pair if x.adf < self.BIC]\n",
    "    self.selected_pair.sort(key = lambda x: x.adf)\n",
    "    # If no pair passed the two-stage test, return.\n",
    "    if len(self.selected_pair) == 0:\n",
    "        self.Log('no selected pair')\n",
    "        self.count += 1\n",
    "        return\n",
    "    # clean the pair to avoid overlapping stocks.\n",
    "    self.selected_pair = self.pair_clean(self.selected_pair)\n",
    "    # assign a property to the selected pair, this is a signal that would be used for trading.\n",
    "    for pair in self.selected_pair:\n",
    "        pair.touch = 0\n",
    "        self.Log(str(pair.adf) + pair.name)\n",
    "    # limit the number of selected pairs.\n",
    "    if len(self.selected_pair) > self.selected_num:\n",
    "        self.selected_pair = self.selected_pair[:self.selected_num]\n",
    "\n",
    "    self.count +=1\n",
    "    self.data_count = 0\n",
    "    return"
   ]
  },
  {
   "cell_type": "markdown",
   "metadata": {},
   "source": [
    "Step 5: Trade Period\n",
    "It would be too long to read if we paste all the code in trading period together. Thus we would separate the code into three part: updating pairs, opening pairs trading and closing pairs trading. But all those lines are under OnData step and are under the condition: if self.count != 0 and self.count < self.one_month. This means it's in the trading period.\n",
    "\n",
    "Updating Pairs\n",
    "This step would update the stock prices in each pair. It would also update the signal called 'last_error' and immediately after this the pairs would receive new signals."
   ]
  },
  {
   "cell_type": "code",
   "execution_count": 21,
   "metadata": {},
   "outputs": [
    {
     "ename": "NameError",
     "evalue": "name 'self' is not defined",
     "output_type": "error",
     "traceback": [
      "\u001b[1;31m---------------------------------------------------------------------------\u001b[0m",
      "\u001b[1;31mNameError\u001b[0m                                 Traceback (most recent call last)",
      "\u001b[1;32m<ipython-input-21-b103a8481fac>\u001b[0m in \u001b[0;36m<module>\u001b[1;34m()\u001b[0m\n\u001b[1;32m----> 1\u001b[1;33m \u001b[0mnum_select\u001b[0m \u001b[1;33m=\u001b[0m \u001b[0mlen\u001b[0m\u001b[1;33m(\u001b[0m\u001b[0mself\u001b[0m\u001b[1;33m.\u001b[0m\u001b[0mselected_pair\u001b[0m\u001b[1;33m)\u001b[0m\u001b[1;33m\u001b[0m\u001b[0m\n\u001b[0m\u001b[0;32m      2\u001b[0m \u001b[1;32mfor\u001b[0m \u001b[0mpair\u001b[0m \u001b[1;32min\u001b[0m \u001b[0mself\u001b[0m\u001b[1;33m.\u001b[0m\u001b[0mpair_list\u001b[0m\u001b[1;33m:\u001b[0m\u001b[1;33m\u001b[0m\u001b[0m\n\u001b[0;32m      3\u001b[0m     \u001b[1;32mif\u001b[0m \u001b[0mdata\u001b[0m\u001b[1;33m.\u001b[0m\u001b[0mContainsKey\u001b[0m\u001b[1;33m(\u001b[0m\u001b[0mpair\u001b[0m\u001b[1;33m.\u001b[0m\u001b[0ma\u001b[0m\u001b[1;33m)\u001b[0m \u001b[1;32mis\u001b[0m \u001b[1;32mTrue\u001b[0m \u001b[1;32mand\u001b[0m \u001b[0mdata\u001b[0m\u001b[1;33m.\u001b[0m\u001b[0mContainsKey\u001b[0m\u001b[1;33m(\u001b[0m\u001b[0mpair\u001b[0m\u001b[1;33m.\u001b[0m\u001b[0mb\u001b[0m\u001b[1;33m)\u001b[0m \u001b[1;32mis\u001b[0m \u001b[1;32mTrue\u001b[0m\u001b[1;33m:\u001b[0m\u001b[1;33m\u001b[0m\u001b[0m\n\u001b[0;32m      4\u001b[0m         \u001b[0mi\u001b[0m\u001b[1;33m.\u001b[0m\u001b[0mprice_record\u001b[0m\u001b[1;33m(\u001b[0m\u001b[0mdata\u001b[0m\u001b[1;33m[\u001b[0m\u001b[0mi\u001b[0m\u001b[1;33m.\u001b[0m\u001b[0ma\u001b[0m\u001b[1;33m]\u001b[0m\u001b[1;33m,\u001b[0m\u001b[0mdata\u001b[0m\u001b[1;33m[\u001b[0m\u001b[0mi\u001b[0m\u001b[1;33m.\u001b[0m\u001b[0mb\u001b[0m\u001b[1;33m]\u001b[0m\u001b[1;33m)\u001b[0m\u001b[1;33m\u001b[0m\u001b[0m\n\u001b[0;32m      5\u001b[0m     \u001b[1;32melse\u001b[0m\u001b[1;33m:\u001b[0m\u001b[1;33m\u001b[0m\u001b[0m\n",
      "\u001b[1;31mNameError\u001b[0m: name 'self' is not defined"
     ]
    }
   ],
   "source": [
    "num_select = len(self.selected_pair)\n",
    "for pair in self.pair_list:\n",
    "    if data.ContainsKey(pair.a) is True and data.ContainsKey(pair.b) is True:\n",
    "        i.price_record(data[i.a],data[i.b])\n",
    "    else:\n",
    "        self.Log('%s has no data'%str(pair.name))\n",
    "        self.pair_list.remove(pair)\n",
    "\n",
    "for pair in self.selected_pair:\n",
    "    pair.last_error = pair.error\n",
    "\n",
    "for pair in self.trading_pairs:\n",
    "    pair.last_error = pair.error"
   ]
  },
  {
   "cell_type": "markdown",
   "metadata": {},
   "source": [
    "Opening Pairs Trading\n",
    "For each pair in self.selected_pair, we receive the current prices of the stocks, and then use the cointegration model to calculate the residual ϵ, which is assigned to the pair as a property named 'error'. self.trading.pairs is a list to store the trading pairs. Once a pairs trading is open, this pair would be add to the list, and it would be removed when the trading is closed. The property 'touch' is signal. If the residual ϵ cross over the positive threshold standard deviation(we set  2.23∗sigma here), the signal would become +1; while if it cross down the negative threshold deviation( −2.23∗sigma, the signal would become -1. For those pairs with +1 signal, if the error cross down positive threshold, there is a signal to open a trade. We long stock B and short stock A. For those pairs with -1 signal, if the error cross over negative threshold, we long Stock A and short stock B. When we opening a trade, we need to record the current model, current mean and standard deviation of the residual. This is necessary because if we enter a new trading period and the trade has not been closed yet, the cointegration model, mean and standard deviation of the pairs would be changed. We need to use the original thresholds to close the trades. while adding the pairs into self.trading_pairs, we also need to set the signal 'touch' to 0 for further use."
   ]
  },
  {
   "cell_type": "code",
   "execution_count": 22,
   "metadata": {},
   "outputs": [
    {
     "ename": "SyntaxError",
     "evalue": "invalid syntax (<ipython-input-22-826b4d42584c>, line 5)",
     "output_type": "error",
     "traceback": [
      "\u001b[1;36m  File \u001b[1;32m\"<ipython-input-22-826b4d42584c>\"\u001b[1;36m, line \u001b[1;32m5\u001b[0m\n\u001b[1;33m    if (self.Portfolio[i.a].Quantity == 0 and self.Portfolio[i.b].Quantity == 0) and i not in\u001b[0m\n\u001b[1;37m                                                                                             ^\u001b[0m\n\u001b[1;31mSyntaxError\u001b[0m\u001b[1;31m:\u001b[0m invalid syntax\n"
     ]
    }
   ],
   "source": [
    "for i in self.selected_pair:\n",
    "    price_a = float(data[i.a].Close)\n",
    "    price_b = float(data[i.b].Close)\n",
    "    i.error = price_a - (i.model.params[0] + i.model.params[1]*price_b)\n",
    "    if (self.Portfolio[i.a].Quantity == 0 and self.Portfolio[i.b].Quantity == 0) and i not in\n",
    "    self.trading_pairs:\n",
    "        if i.touch == 0:\n",
    "            if i.error < i.mean_error - self.open_size*i.sd and i.last_error > i.mean_error -\n",
    "            self.open_size*i.sd:\n",
    "                i.touch += -1\n",
    "            elif i.error > i.mean_error + self.open_size*i.sd and i.last_error < i.mean_error + self.open_size*i.sd: i.touch += 1 else: pass elif i.touch == -1: if i.error > i.mean_error - self.open_size*i.sd and i.last_error < i.mean_error -\n",
    "            self.open_size*i.sd:\n",
    "                self.Log('long %s and short %s'%(str(i.a),str(i.b)))\n",
    "                i.record_model = i.model\n",
    "                i.record_mean_error = i.mean_error\n",
    "                i.record_sd = i.sd\n",
    "                self.trading_pairs.append(i)\n",
    "                self.SetHoldings(i.a, 5.0/(len(self.selected_pair)))\n",
    "                self.SetHoldings(i.b, -5.0/(len(self.selected_pair)))\n",
    "                i.touch = 0\n",
    "         elif i.touch == 1:\n",
    "             if i.error < i.mean_error + self.open_size*i.sd and i.last_error > i.mean_error +\n",
    "             self.open_size*i.sd:\n",
    "             self.Log('long %s and short %s'%(str(i.b),str(i.a)))\n",
    "             i.record_model = i.model\n",
    "             i.record_mean_error = i.mean_error\n",
    "             i.record_sd = i.sd\n",
    "             self.trading_pairs.append(i)\n",
    "             self.SetHoldings(i.b, 5.0/(len(self.selected_pair)))\n",
    "             self.SetHoldings(i.a, -5.0/(len(self.selected_pair)))\n",
    "             i.touch = 0\n",
    "         else:\n",
    "             pass\n",
    "    else:\n",
    "        pass"
   ]
  },
  {
   "cell_type": "markdown",
   "metadata": {},
   "source": [
    "Closing Pairs Trading\n",
    "This part controls pairs trading exit. It works similar to the opening part. It uses the recorded original model and thresholds to determine whether or not we should close the position. If the residual ϵ reaches our closing threshold, we liquidate stock A and stock B to close. If the residual continue to deviate from the mean and goes too far, we would also close the position to stop loss. When we close a pairs trading, we also remove the pairs from self.trading_pairs.\n",
    "\n"
   ]
  },
  {
   "cell_type": "code",
   "execution_count": 23,
   "metadata": {},
   "outputs": [
    {
     "ename": "SyntaxError",
     "evalue": "invalid syntax (<ipython-input-23-629e9ba3fbf5>, line 6)",
     "output_type": "error",
     "traceback": [
      "\u001b[1;36m  File \u001b[1;32m\"<ipython-input-23-629e9ba3fbf5>\"\u001b[1;36m, line \u001b[1;32m6\u001b[0m\n\u001b[1;33m    self.close_size*i.record_sd and i.last_error  i.record_mean_error +\u001b[0m\n\u001b[1;37m                                                  ^\u001b[0m\n\u001b[1;31mSyntaxError\u001b[0m\u001b[1;31m:\u001b[0m invalid syntax\n"
     ]
    }
   ],
   "source": [
    "for i in self.trading_pairs:\n",
    "    price_a = float(data[i.a].Close)\n",
    "    price_b = float(data[i.b].Close)\n",
    "    i.error = price_a - (i.record_model.params[0] + i.record_model.params[1]*price_b)\n",
    "    if ((i.error < i.record_mean_error + self.close_size*i.record_sd and i.last_error >i.record_mean_error + self.close_size*i.record_sd) or (i.error > i.record_mean_error -\n",
    "    self.close_size*i.record_sd and i.last_error  i.record_mean_error +\n",
    "    self.stop_loss*i.record_sd:\n",
    "        self.Log('close %s to stop loss'%str(i.name))\n",
    "        self.Liquidate(i.a)\n",
    "        self.Liquidate(i.b)\n",
    "        self.trading_pairs.remove(i)\n",
    "    else:\n",
    "        pass"
   ]
  },
  {
   "cell_type": "code",
   "execution_count": null,
   "metadata": {},
   "outputs": [],
   "source": []
  },
  {
   "cell_type": "code",
   "execution_count": null,
   "metadata": {},
   "outputs": [],
   "source": []
  }
 ],
 "metadata": {
  "kernelspec": {
   "display_name": "Python 3",
   "language": "python",
   "name": "python3"
  },
  "language_info": {
   "codemirror_mode": {
    "name": "ipython",
    "version": 3
   },
   "file_extension": ".py",
   "mimetype": "text/x-python",
   "name": "python",
   "nbconvert_exporter": "python",
   "pygments_lexer": "ipython3",
   "version": "3.6.5"
  }
 },
 "nbformat": 4,
 "nbformat_minor": 2
}
