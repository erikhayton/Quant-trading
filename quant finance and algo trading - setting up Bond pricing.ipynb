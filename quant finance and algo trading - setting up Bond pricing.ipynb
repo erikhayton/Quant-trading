{
 "cells": [
  {
   "cell_type": "code",
   "execution_count": 1,
   "metadata": {},
   "outputs": [],
   "source": [
    "from math import exp"
   ]
  },
  {
   "cell_type": "code",
   "execution_count": 2,
   "metadata": {},
   "outputs": [],
   "source": [
    "def zero_coupon_bond_price(par_value, market_rate, n):\n",
    "    return par_value/(1+market_rate)**n"
   ]
  },
  {
   "cell_type": "code",
   "execution_count": 4,
   "metadata": {},
   "outputs": [],
   "source": [
    "def bond_price(par_value, coupon, market_rate, n):\n",
    "    c = par_value*coupon\n",
    "    return c*(1-((1+market_rate)**-n))/market_rate + par_value/(1+market_rate)**n"
   ]
  },
  {
   "cell_type": "code",
   "execution_count": 21,
   "metadata": {},
   "outputs": [
    {
     "name": "stdout",
     "output_type": "stream",
     "text": [
      "Price of the Zero Coupon bond:  888.996\n",
      "Price of coupon yielding bond:  1027.751\n"
     ]
    }
   ],
   "source": [
    "if __name__ == \"__main__\":\n",
    "    par_value = 1000\n",
    "    coupon = 0.05\n",
    "    n = 3\n",
    "    market_rate = 0.04\n",
    "    \n",
    "    print('Price of the Zero Coupon bond: ', round(zero_coupon_bond_price(par_value=par_value, market_rate=market_rate, n=n),3))\n",
    "    print('Price of coupon yielding bond: ', round(bond_price(par_value=par_value, market_rate=market_rate, n=n, coupon=coupon),3))"
   ]
  },
  {
   "cell_type": "code",
   "execution_count": null,
   "metadata": {},
   "outputs": [],
   "source": []
  }
 ],
 "metadata": {
  "kernelspec": {
   "display_name": "Python 3",
   "language": "python",
   "name": "python3"
  },
  "language_info": {
   "codemirror_mode": {
    "name": "ipython",
    "version": 3
   },
   "file_extension": ".py",
   "mimetype": "text/x-python",
   "name": "python",
   "nbconvert_exporter": "python",
   "pygments_lexer": "ipython3",
   "version": "3.6.5"
  }
 },
 "nbformat": 4,
 "nbformat_minor": 2
}
