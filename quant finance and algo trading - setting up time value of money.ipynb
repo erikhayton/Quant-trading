{
 "cells": [
  {
   "cell_type": "code",
   "execution_count": 14,
   "metadata": {},
   "outputs": [],
   "source": [
    "from math import exp"
   ]
  },
  {
   "cell_type": "code",
   "execution_count": 15,
   "metadata": {},
   "outputs": [],
   "source": [
    "def discrete_future_value(x,r,n):\n",
    "    return x*(1+r)**n"
   ]
  },
  {
   "cell_type": "code",
   "execution_count": 16,
   "metadata": {},
   "outputs": [],
   "source": [
    "def discrete_present_value(x,r,n):\n",
    "    return x*(1+r)**-n"
   ]
  },
  {
   "cell_type": "code",
   "execution_count": 17,
   "metadata": {},
   "outputs": [],
   "source": [
    "def continuous_future_value(x,r,t):\n",
    "    return x*exp(r*t)"
   ]
  },
  {
   "cell_type": "code",
   "execution_count": 18,
   "metadata": {},
   "outputs": [],
   "source": [
    "def continuous_present_value(x,r,t):\n",
    "    return x*exp(-r*t)"
   ]
  },
  {
   "cell_type": "code",
   "execution_count": 21,
   "metadata": {},
   "outputs": [
    {
     "name": "stdout",
     "output_type": "stream",
     "text": [
      "Future value of $100 in 5 years (discrete model):   127.62815625000003\n",
      "Future value of $100 in 5 years (continuous model):   128.40254166877415\n",
      "Present value of $100 in 5 years (discrete model):   78.35261664684589\n",
      "Presnt value of $100 in 5 years (continuous model):   77.8800783071405\n"
     ]
    }
   ],
   "source": [
    "if __name__ == \"__main__\":\n",
    "    x = 100\n",
    "    r = 0.05\n",
    "    n = 5\n",
    "    \n",
    "    print('Future value of $100 in 5 years (discrete model):  ', discrete_future_value(x,r,n))\n",
    "    print('Future value of $100 in 5 years (continuous model):  ', continuous_future_value(x,r,n))\n",
    "    print('Present value of $100 in 5 years (discrete model):  ', discrete_present_value(x,r,n))\n",
    "    print('Presnt value of $100 in 5 years (continuous model):  ', continuous_present_value(x,r,n))"
   ]
  },
  {
   "cell_type": "code",
   "execution_count": null,
   "metadata": {},
   "outputs": [],
   "source": []
  }
 ],
 "metadata": {
  "kernelspec": {
   "display_name": "Python 3",
   "language": "python",
   "name": "python3"
  },
  "language_info": {
   "codemirror_mode": {
    "name": "ipython",
    "version": 3
   },
   "file_extension": ".py",
   "mimetype": "text/x-python",
   "name": "python",
   "nbconvert_exporter": "python",
   "pygments_lexer": "ipython3",
   "version": "3.6.5"
  }
 },
 "nbformat": 4,
 "nbformat_minor": 2
}
