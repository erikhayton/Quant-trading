{
 "cells": [
  {
   "cell_type": "code",
   "execution_count": 1,
   "metadata": {},
   "outputs": [],
   "source": [
    "import numpy as np\n",
    "import pandas as pd\n",
    "import matplotlib.pyplot as plt\n",
    "%matplotlib inline\n",
    "import math\n",
    "import statsmodels\n",
    "from pandas_datareader import data\n",
    "import datetime\n",
    "import quandl"
   ]
  },
  {
   "cell_type": "code",
   "execution_count": 2,
   "metadata": {},
   "outputs": [],
   "source": [
    "start= datetime.datetime(2019, 9, 15)  # The start of the year for example\n",
    "end= datetime.datetime(2020, 9, 30)"
   ]
  },
  {
   "cell_type": "code",
   "execution_count": 3,
   "metadata": {},
   "outputs": [],
   "source": [
    "ticker_1 = \"gild\"\n",
    "ticker_2 = \"nvo\""
   ]
  },
  {
   "cell_type": "code",
   "execution_count": 4,
   "metadata": {},
   "outputs": [],
   "source": [
    "df_tickr1 = data.DataReader(name= ticker_1, data_source= \"yahoo\", start= start, end= end)\n",
    "df_tickr2 = data.DataReader(name= ticker_2, data_source= \"yahoo\", start= start, end= end)"
   ]
  },
  {
   "cell_type": "code",
   "execution_count": 5,
   "metadata": {},
   "outputs": [],
   "source": [
    "spread_ratio = df_tickr1['Adj Close']/df_tickr2['Adj Close']"
   ]
  },
  {
   "cell_type": "code",
   "execution_count": 6,
   "metadata": {},
   "outputs": [],
   "source": [
    "from arch import arch_model"
   ]
  },
  {
   "cell_type": "code",
   "execution_count": 7,
   "metadata": {},
   "outputs": [],
   "source": [
    "garch11 = arch_model(spread_ratio, p=1,q=1)"
   ]
  },
  {
   "cell_type": "code",
   "execution_count": 8,
   "metadata": {},
   "outputs": [
    {
     "data": {
      "text/html": [
       "<strong>Constant Mean</strong>(<strong>constant: </strong>yes,\n",
       "<strong>no. of exog: </strong>0,\n",
       "<strong>volatility: </strong>GARCH(p: 1, q: 1),\n",
       "<strong>distribution: </strong>Normal distribution,\n",
       "<strong>ID: </strong> 0x240d6112f28)"
      ],
      "text/plain": [
       "Constant Mean(constant: yes, no. of exog: 0, volatility: GARCH(p: 1, q: 1), distribution: Normal distribution), id: 0x240d6112f28"
      ]
     },
     "execution_count": 8,
     "metadata": {},
     "output_type": "execute_result"
    }
   ],
   "source": [
    "garch11"
   ]
  },
  {
   "cell_type": "code",
   "execution_count": 9,
   "metadata": {},
   "outputs": [
    {
     "name": "stdout",
     "output_type": "stream",
     "text": [
      "Iteration:      1,   Func. Count:      6,   Neg. LLF: -71.70524863394847\n",
      "Iteration:      2,   Func. Count:     18,   Neg. LLF: -73.52366390050422\n",
      "Iteration:      3,   Func. Count:     24,   Neg. LLF: -75.87449340384731\n",
      "Iteration:      4,   Func. Count:     31,   Neg. LLF: -77.31212864530875\n",
      "Iteration:      5,   Func. Count:     38,   Neg. LLF: -80.29025877559545\n",
      "Iteration:      6,   Func. Count:     45,   Neg. LLF: -80.5750985744485\n",
      "Iteration:      7,   Func. Count:     52,   Neg. LLF: -80.8571829367884\n",
      "Iteration:      8,   Func. Count:     58,   Neg. LLF: -81.22385525992924\n",
      "Iteration:      9,   Func. Count:     65,   Neg. LLF: -82.75057850103956\n",
      "Iteration:     10,   Func. Count:     71,   Neg. LLF: -83.1123274388627\n",
      "Iteration:     11,   Func. Count:     77,   Neg. LLF: -83.16394994535759\n",
      "Iteration:     12,   Func. Count:     83,   Neg. LLF: -83.21177231014775\n",
      "Iteration:     13,   Func. Count:     89,   Neg. LLF: -83.23882161287071\n",
      "Optimization terminated successfully.    (Exit mode 0)\n",
      "            Current function value: -83.23882166002961\n",
      "            Iterations: 13\n",
      "            Function evaluations: 100\n",
      "            Gradient evaluations: 13\n"
     ]
    },
    {
     "name": "stderr",
     "output_type": "stream",
     "text": [
      "C:\\Users\\samar\\Anaconda3\\lib\\site-packages\\arch\\univariate\\base.py:260: DataScaleWarning: y is poorly scaled, which may affect convergence of the optimizer when\n",
      "estimating the model parameters. The scale of y is 0.002196. Parameter\n",
      "estimation work better when this value is between 1 and 1000. The recommended\n",
      "rescaling is 100 * y.\n",
      "\n",
      "This warning can be disabled by either rescaling y before initializing the\n",
      "model or by setting rescale=False.\n",
      "\n",
      "  DataScaleWarning)\n"
     ]
    }
   ],
   "source": [
    "res = garch11.fit()"
   ]
  },
  {
   "cell_type": "code",
   "execution_count": 10,
   "metadata": {},
   "outputs": [
    {
     "name": "stdout",
     "output_type": "stream",
     "text": [
      "                     Constant Mean - GARCH Model Results                      \n",
      "==============================================================================\n",
      "Dep. Variable:              Adj Close   R-squared:                      -0.193\n",
      "Mean Model:             Constant Mean   Adj. R-squared:                 -0.193\n",
      "Vol Model:                      GARCH   Log-Likelihood:                83.2388\n",
      "Distribution:                  Normal   AIC:                          -158.478\n",
      "Method:            Maximum Likelihood   BIC:                          -151.722\n",
      "                                        No. Observations:                   40\n",
      "Date:                Sat, Nov 09 2019   Df Residuals:                       36\n",
      "Time:                        09:44:25   Df Model:                            4\n",
      "                               Mean Model                               \n",
      "========================================================================\n",
      "                 coef    std err          t      P>|t|  95.0% Conf. Int.\n",
      "------------------------------------------------------------------------\n",
      "mu             1.2359  2.340e-03    528.169      0.000 [  1.231,  1.241]\n",
      "                               Volatility Model                              \n",
      "=============================================================================\n",
      "                 coef    std err          t      P>|t|       95.0% Conf. Int.\n",
      "-----------------------------------------------------------------------------\n",
      "omega      9.9789e-05  5.148e-05      1.939  5.255e-02 [-1.102e-06,2.007e-04]\n",
      "alpha[1]       1.0000      0.380      2.630  8.528e-03      [  0.255,  1.745]\n",
      "beta[1]    1.4924e-13      0.243  6.139e-13      1.000      [ -0.476,  0.476]\n",
      "=============================================================================\n",
      "\n",
      "Covariance estimator: robust\n"
     ]
    }
   ],
   "source": [
    "print(res.summary())"
   ]
  },
  {
   "cell_type": "code",
   "execution_count": 11,
   "metadata": {},
   "outputs": [],
   "source": [
    "spread_forecast = garch11.forecast(spread_ratio)"
   ]
  },
  {
   "cell_type": "code",
   "execution_count": 15,
   "metadata": {},
   "outputs": [
    {
     "name": "stdout",
     "output_type": "stream",
     "text": [
      "<arch.univariate.base.ARCHModelForecast object at 0x00000240D8178B38>\n"
     ]
    }
   ],
   "source": [
    "print(spread_forecast)"
   ]
  }
 ],
 "metadata": {
  "kernelspec": {
   "display_name": "Python 3",
   "language": "python",
   "name": "python3"
  },
  "language_info": {
   "codemirror_mode": {
    "name": "ipython",
    "version": 3
   },
   "file_extension": ".py",
   "mimetype": "text/x-python",
   "name": "python",
   "nbconvert_exporter": "python",
   "pygments_lexer": "ipython3",
   "version": "3.6.5"
  }
 },
 "nbformat": 4,
 "nbformat_minor": 2
}
