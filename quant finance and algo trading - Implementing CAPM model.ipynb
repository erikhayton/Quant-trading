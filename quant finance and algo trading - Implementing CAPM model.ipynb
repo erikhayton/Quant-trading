{
 "cells": [
  {
   "cell_type": "code",
   "execution_count": 1,
   "metadata": {},
   "outputs": [],
   "source": [
    "import pandas_datareader as pdr\n",
    "from pandas_datareader import data, wb\n",
    "from datetime import date\n",
    "import numpy as np\n",
    "import matplotlib.pyplot as plt\n",
    "import pandas as pd"
   ]
  },
  {
   "cell_type": "code",
   "execution_count": 2,
   "metadata": {},
   "outputs": [],
   "source": [
    "risk_free_rate = 0.05"
   ]
  },
  {
   "cell_type": "code",
   "execution_count": null,
   "metadata": {},
   "outputs": [],
   "source": [
    "def capm(start_date, end_date, ticker1, ticker2):\n",
    "    #getting yahoo finance data\n",
    "    stock1 = pdr.get_data_yahoo(ticker1, start_date, end_date)\n",
    "    stock2 = pdr.get_data_yahoo(ticker2, start_date, end_date)\n",
    "    \n",
    "    #make it monthly returns\n",
    "    return_stock1 = stock1.resample('M').last()\n",
    "    return_stock2 = stock2.resample('M').last()\n",
    "    \n",
    "    #adjusted closing price\n",
    "    data = pd.DataFrame({'s_adjclose': return_stock1['Adj Close'], 'm_adjclose': return_stock2['Adj Close']})\n",
    "    "
   ]
  }
 ],
 "metadata": {
  "kernelspec": {
   "display_name": "Python 3",
   "language": "python",
   "name": "python3"
  },
  "language_info": {
   "codemirror_mode": {
    "name": "ipython",
    "version": 3
   },
   "file_extension": ".py",
   "mimetype": "text/x-python",
   "name": "python",
   "nbconvert_exporter": "python",
   "pygments_lexer": "ipython3",
   "version": "3.6.5"
  }
 },
 "nbformat": 4,
 "nbformat_minor": 2
}
