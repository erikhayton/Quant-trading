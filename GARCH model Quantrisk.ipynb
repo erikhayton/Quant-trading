{
 "cells": [
  {
   "cell_type": "code",
   "execution_count": 1,
   "metadata": {},
   "outputs": [],
   "source": [
    "import numpy as np"
   ]
  },
  {
   "cell_type": "code",
   "execution_count": 2,
   "metadata": {},
   "outputs": [
    {
     "name": "stdout",
     "output_type": "stream",
     "text": [
      "Optimization terminated successfully.    (Exit mode 0)\n",
      "            Current function value: -0.1181984620590425\n",
      "            Iterations: 9\n",
      "            Function evaluations: 60\n",
      "            Gradient evaluations: 9\n",
      "                     Constant Mean - GARCH Model Results                      \n",
      "==============================================================================\n",
      "Dep. Variable:                      y   R-squared:                      -0.004\n",
      "Mean Model:             Constant Mean   Adj. R-squared:                 -0.004\n",
      "Vol Model:                      GARCH   Log-Likelihood:               0.118198\n",
      "Distribution:                  Normal   AIC:                           7.76360\n",
      "Method:            Maximum Likelihood   BIC:                           10.5958\n",
      "                                        No. Observations:                   15\n",
      "Date:                Sat, Nov 09 2019   Df Residuals:                       11\n",
      "Time:                        09:43:52   Df Model:                            4\n",
      "                               Mean Model                               \n",
      "========================================================================\n",
      "                 coef    std err          t      P>|t|  95.0% Conf. Int.\n",
      "------------------------------------------------------------------------\n",
      "mu             0.7187      0.116      6.188  6.081e-10 [  0.491,  0.946]\n",
      "                              Volatility Model                             \n",
      "===========================================================================\n",
      "                 coef    std err          t      P>|t|     95.0% Conf. Int.\n",
      "---------------------------------------------------------------------------\n",
      "omega          0.0485  6.877e-02      0.706      0.480 [-8.626e-02,  0.183]\n",
      "alpha[1]       0.1733      0.688      0.252      0.801    [ -1.176,  1.522]\n",
      "beta[1]    2.5539e-29      2.172  1.176e-29      1.000    [ -4.257,  4.257]\n",
      "===========================================================================\n",
      "\n",
      "Covariance estimator: robust\n"
     ]
    },
    {
     "name": "stderr",
     "output_type": "stream",
     "text": [
      "C:\\Users\\samar\\Anaconda3\\lib\\site-packages\\arch\\univariate\\base.py:260: DataScaleWarning: y is poorly scaled, which may affect convergence of the optimizer when\n",
      "estimating the model parameters. The scale of y is 0.06018. Parameter\n",
      "estimation work better when this value is between 1 and 1000. The recommended\n",
      "rescaling is 10 * y.\n",
      "\n",
      "This warning can be disabled by either rescaling y before initializing the\n",
      "model or by setting rescale=False.\n",
      "\n",
      "  DataScaleWarning)\n"
     ]
    }
   ],
   "source": [
    "# GARCH(1,1) Model in Python\n",
    "#   uses maximum likelihood method to estimate (omega,alpha,beta)\n",
    "# (c) 2014 QuantAtRisk, by Pawel Lachowicz; tested with Python 3.5 only\n",
    " \n",
    "r = np.array([0.945532630498276,\n",
    "              0.614772790142383,\n",
    "              0.834417758890680,\n",
    "              0.862344782601800,\n",
    "              0.555858715401929,\n",
    "              0.641058419842652,\n",
    "              0.720118656981704,\n",
    "              0.643948007732270,\n",
    "              0.138790608092353,\n",
    "              0.279264178231250,\n",
    "              0.993836948076485,\n",
    "              0.531967023876420,\n",
    "              0.964455754192395,\n",
    "              0.873171802181126,\n",
    "              0.937828816793698])\n",
    " \n",
    "from arch import arch_model\n",
    "garch11 = arch_model(r, p=1, q=1)\n",
    "res = garch11.fit(update_freq=10)\n",
    "print(res.summary())"
   ]
  },
  {
   "cell_type": "code",
   "execution_count": null,
   "metadata": {},
   "outputs": [],
   "source": []
  }
 ],
 "metadata": {
  "kernelspec": {
   "display_name": "Python 3",
   "language": "python",
   "name": "python3"
  },
  "language_info": {
   "codemirror_mode": {
    "name": "ipython",
    "version": 3
   },
   "file_extension": ".py",
   "mimetype": "text/x-python",
   "name": "python",
   "nbconvert_exporter": "python",
   "pygments_lexer": "ipython3",
   "version": "3.6.5"
  }
 },
 "nbformat": 4,
 "nbformat_minor": 2
}
